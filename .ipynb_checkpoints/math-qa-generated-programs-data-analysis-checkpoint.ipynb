{
 "cells": [
  {
   "cell_type": "code",
   "execution_count": 1,
   "id": "c1a1cf78-906f-4c65-883c-1959b56c639f",
   "metadata": {},
   "outputs": [],
   "source": [
    "import pandas as pd\n",
    "import matplotlib.pyplot as plt\n",
    "import numpy\n",
    "import json\n",
    "import  requests\n",
    "from collections import Counter"
   ]
  },
  {
   "cell_type": "code",
   "execution_count": 2,
   "id": "4a6a048a-f96f-41af-a989-4fbae5ba7215",
   "metadata": {},
   "outputs": [],
   "source": [
    "data_path = \"/home/ak/tte/data/sample-data/pass_5_ckpt_12k/generated_program_infos.json\""
   ]
  },
  {
   "cell_type": "code",
   "execution_count": 3,
   "id": "ee90a256-80fb-46ae-9a20-060ad8fdaa95",
   "metadata": {},
   "outputs": [
    {
     "ename": "ValueError",
     "evalue": "Expected object or value",
     "output_type": "error",
     "traceback": [
      "\u001b[0;31m---------------------------------------------------------------------------\u001b[0m",
      "\u001b[0;31mValueError\u001b[0m                                Traceback (most recent call last)",
      "Cell \u001b[0;32mIn[3], line 1\u001b[0m\n\u001b[0;32m----> 1\u001b[0m json_data \u001b[38;5;241m=\u001b[39m \u001b[43mpd\u001b[49m\u001b[38;5;241;43m.\u001b[39;49m\u001b[43mread_json\u001b[49m\u001b[43m(\u001b[49m\u001b[43mdata_path\u001b[49m\u001b[43m)\u001b[49m\n",
      "File \u001b[0;32m~/.config/jupyterlab-desktop/jlab_server/lib/python3.8/site-packages/pandas/io/json/_json.py:784\u001b[0m, in \u001b[0;36mread_json\u001b[0;34m(path_or_buf, orient, typ, dtype, convert_axes, convert_dates, keep_default_dates, precise_float, date_unit, encoding, encoding_errors, lines, chunksize, compression, nrows, storage_options, dtype_backend, engine)\u001b[0m\n\u001b[1;32m    782\u001b[0m     \u001b[38;5;28;01mreturn\u001b[39;00m json_reader\n\u001b[1;32m    783\u001b[0m \u001b[38;5;28;01melse\u001b[39;00m:\n\u001b[0;32m--> 784\u001b[0m     \u001b[38;5;28;01mreturn\u001b[39;00m \u001b[43mjson_reader\u001b[49m\u001b[38;5;241;43m.\u001b[39;49m\u001b[43mread\u001b[49m\u001b[43m(\u001b[49m\u001b[43m)\u001b[49m\n",
      "File \u001b[0;32m~/.config/jupyterlab-desktop/jlab_server/lib/python3.8/site-packages/pandas/io/json/_json.py:975\u001b[0m, in \u001b[0;36mJsonReader.read\u001b[0;34m(self)\u001b[0m\n\u001b[1;32m    973\u001b[0m         obj \u001b[38;5;241m=\u001b[39m \u001b[38;5;28mself\u001b[39m\u001b[38;5;241m.\u001b[39m_get_object_parser(\u001b[38;5;28mself\u001b[39m\u001b[38;5;241m.\u001b[39m_combine_lines(data_lines))\n\u001b[1;32m    974\u001b[0m \u001b[38;5;28;01melse\u001b[39;00m:\n\u001b[0;32m--> 975\u001b[0m     obj \u001b[38;5;241m=\u001b[39m \u001b[38;5;28;43mself\u001b[39;49m\u001b[38;5;241;43m.\u001b[39;49m\u001b[43m_get_object_parser\u001b[49m\u001b[43m(\u001b[49m\u001b[38;5;28;43mself\u001b[39;49m\u001b[38;5;241;43m.\u001b[39;49m\u001b[43mdata\u001b[49m\u001b[43m)\u001b[49m\n\u001b[1;32m    976\u001b[0m \u001b[38;5;28;01mif\u001b[39;00m \u001b[38;5;28mself\u001b[39m\u001b[38;5;241m.\u001b[39mdtype_backend \u001b[38;5;129;01mis\u001b[39;00m \u001b[38;5;129;01mnot\u001b[39;00m lib\u001b[38;5;241m.\u001b[39mno_default:\n\u001b[1;32m    977\u001b[0m     \u001b[38;5;28;01mreturn\u001b[39;00m obj\u001b[38;5;241m.\u001b[39mconvert_dtypes(\n\u001b[1;32m    978\u001b[0m         infer_objects\u001b[38;5;241m=\u001b[39m\u001b[38;5;28;01mFalse\u001b[39;00m, dtype_backend\u001b[38;5;241m=\u001b[39m\u001b[38;5;28mself\u001b[39m\u001b[38;5;241m.\u001b[39mdtype_backend\n\u001b[1;32m    979\u001b[0m     )\n",
      "File \u001b[0;32m~/.config/jupyterlab-desktop/jlab_server/lib/python3.8/site-packages/pandas/io/json/_json.py:1001\u001b[0m, in \u001b[0;36mJsonReader._get_object_parser\u001b[0;34m(self, json)\u001b[0m\n\u001b[1;32m    999\u001b[0m obj \u001b[38;5;241m=\u001b[39m \u001b[38;5;28;01mNone\u001b[39;00m\n\u001b[1;32m   1000\u001b[0m \u001b[38;5;28;01mif\u001b[39;00m typ \u001b[38;5;241m==\u001b[39m \u001b[38;5;124m\"\u001b[39m\u001b[38;5;124mframe\u001b[39m\u001b[38;5;124m\"\u001b[39m:\n\u001b[0;32m-> 1001\u001b[0m     obj \u001b[38;5;241m=\u001b[39m \u001b[43mFrameParser\u001b[49m\u001b[43m(\u001b[49m\u001b[43mjson\u001b[49m\u001b[43m,\u001b[49m\u001b[43m \u001b[49m\u001b[38;5;241;43m*\u001b[39;49m\u001b[38;5;241;43m*\u001b[39;49m\u001b[43mkwargs\u001b[49m\u001b[43m)\u001b[49m\u001b[38;5;241;43m.\u001b[39;49m\u001b[43mparse\u001b[49m\u001b[43m(\u001b[49m\u001b[43m)\u001b[49m\n\u001b[1;32m   1003\u001b[0m \u001b[38;5;28;01mif\u001b[39;00m typ \u001b[38;5;241m==\u001b[39m \u001b[38;5;124m\"\u001b[39m\u001b[38;5;124mseries\u001b[39m\u001b[38;5;124m\"\u001b[39m \u001b[38;5;129;01mor\u001b[39;00m obj \u001b[38;5;129;01mis\u001b[39;00m \u001b[38;5;28;01mNone\u001b[39;00m:\n\u001b[1;32m   1004\u001b[0m     \u001b[38;5;28;01mif\u001b[39;00m \u001b[38;5;129;01mnot\u001b[39;00m \u001b[38;5;28misinstance\u001b[39m(dtype, \u001b[38;5;28mbool\u001b[39m):\n",
      "File \u001b[0;32m~/.config/jupyterlab-desktop/jlab_server/lib/python3.8/site-packages/pandas/io/json/_json.py:1134\u001b[0m, in \u001b[0;36mParser.parse\u001b[0;34m(self)\u001b[0m\n\u001b[1;32m   1133\u001b[0m \u001b[38;5;28;01mdef\u001b[39;00m \u001b[38;5;21mparse\u001b[39m(\u001b[38;5;28mself\u001b[39m):\n\u001b[0;32m-> 1134\u001b[0m     \u001b[38;5;28;43mself\u001b[39;49m\u001b[38;5;241;43m.\u001b[39;49m\u001b[43m_parse\u001b[49m\u001b[43m(\u001b[49m\u001b[43m)\u001b[49m\n\u001b[1;32m   1136\u001b[0m     \u001b[38;5;28;01mif\u001b[39;00m \u001b[38;5;28mself\u001b[39m\u001b[38;5;241m.\u001b[39mobj \u001b[38;5;129;01mis\u001b[39;00m \u001b[38;5;28;01mNone\u001b[39;00m:\n\u001b[1;32m   1137\u001b[0m         \u001b[38;5;28;01mreturn\u001b[39;00m \u001b[38;5;28;01mNone\u001b[39;00m\n",
      "File \u001b[0;32m~/.config/jupyterlab-desktop/jlab_server/lib/python3.8/site-packages/pandas/io/json/_json.py:1320\u001b[0m, in \u001b[0;36mFrameParser._parse\u001b[0;34m(self)\u001b[0m\n\u001b[1;32m   1316\u001b[0m orient \u001b[38;5;241m=\u001b[39m \u001b[38;5;28mself\u001b[39m\u001b[38;5;241m.\u001b[39morient\n\u001b[1;32m   1318\u001b[0m \u001b[38;5;28;01mif\u001b[39;00m orient \u001b[38;5;241m==\u001b[39m \u001b[38;5;124m\"\u001b[39m\u001b[38;5;124mcolumns\u001b[39m\u001b[38;5;124m\"\u001b[39m:\n\u001b[1;32m   1319\u001b[0m     \u001b[38;5;28mself\u001b[39m\u001b[38;5;241m.\u001b[39mobj \u001b[38;5;241m=\u001b[39m DataFrame(\n\u001b[0;32m-> 1320\u001b[0m         \u001b[43mloads\u001b[49m\u001b[43m(\u001b[49m\u001b[43mjson\u001b[49m\u001b[43m,\u001b[49m\u001b[43m \u001b[49m\u001b[43mprecise_float\u001b[49m\u001b[38;5;241;43m=\u001b[39;49m\u001b[38;5;28;43mself\u001b[39;49m\u001b[38;5;241;43m.\u001b[39;49m\u001b[43mprecise_float\u001b[49m\u001b[43m)\u001b[49m, dtype\u001b[38;5;241m=\u001b[39m\u001b[38;5;28;01mNone\u001b[39;00m\n\u001b[1;32m   1321\u001b[0m     )\n\u001b[1;32m   1322\u001b[0m \u001b[38;5;28;01melif\u001b[39;00m orient \u001b[38;5;241m==\u001b[39m \u001b[38;5;124m\"\u001b[39m\u001b[38;5;124msplit\u001b[39m\u001b[38;5;124m\"\u001b[39m:\n\u001b[1;32m   1323\u001b[0m     decoded \u001b[38;5;241m=\u001b[39m {\n\u001b[1;32m   1324\u001b[0m         \u001b[38;5;28mstr\u001b[39m(k): v\n\u001b[1;32m   1325\u001b[0m         \u001b[38;5;28;01mfor\u001b[39;00m k, v \u001b[38;5;129;01min\u001b[39;00m loads(json, precise_float\u001b[38;5;241m=\u001b[39m\u001b[38;5;28mself\u001b[39m\u001b[38;5;241m.\u001b[39mprecise_float)\u001b[38;5;241m.\u001b[39mitems()\n\u001b[1;32m   1326\u001b[0m     }\n",
      "\u001b[0;31mValueError\u001b[0m: Expected object or value"
     ]
    }
   ],
   "source": [
    "json_data = pd.read_json(data_path)"
   ]
  },
  {
   "cell_type": "code",
   "execution_count": null,
   "id": "ca91a23f-e6d1-4f08-8769-5bb356e9d052",
   "metadata": {},
   "outputs": [],
   "source": [
    "json_obj = json.dumps(data_path)"
   ]
  },
  {
   "cell_type": "code",
   "execution_count": null,
   "id": "f604ac72-f686-47f7-942f-21572873a0d1",
   "metadata": {},
   "outputs": [],
   "source": [
    "generated_programs_dict = json_data.to_dict()"
   ]
  },
  {
   "cell_type": "code",
   "execution_count": null,
   "id": "2937e640-e626-4fc6-9e56-5a00c57e8d0e",
   "metadata": {},
   "outputs": [],
   "source": [
    "#df = pd.json_normalize(data)"
   ]
  },
  {
   "cell_type": "code",
   "execution_count": null,
   "id": "a9e80579-127c-4ea3-89fb-a606d4adf23c",
   "metadata": {},
   "outputs": [],
   "source": [
    "json_data.head()"
   ]
  },
  {
   "cell_type": "code",
   "execution_count": null,
   "id": "a6fe254f-480c-4e7b-a601-8d822b7b90fa",
   "metadata": {},
   "outputs": [],
   "source": [
    "generated_programs_dict[0]"
   ]
  },
  {
   "cell_type": "code",
   "execution_count": null,
   "id": "df02129d-fd94-4584-876d-d9e765663ec5",
   "metadata": {},
   "outputs": [],
   "source": [
    "generated_programs_dict[0][0]"
   ]
  },
  {
   "cell_type": "code",
   "execution_count": null,
   "id": "0ba89f3c-fb89-4b55-aec5-141dfee93fa6",
   "metadata": {},
   "outputs": [],
   "source": [
    "generated_programs_dict[0][0]['compiler_out']"
   ]
  },
  {
   "cell_type": "code",
   "execution_count": null,
   "id": "7f370d39-b1fa-49f7-9d0a-11d5454f4ec0",
   "metadata": {},
   "outputs": [],
   "source": [
    "len(generated_programs_dict[0][0]['compiler_out'])"
   ]
  },
  {
   "cell_type": "code",
   "execution_count": null,
   "id": "cad9376b-1d42-4377-8dea-865c578dec64",
   "metadata": {},
   "outputs": [],
   "source": [
    "c = Counter(generated_programs_dict[0][0]['compiler_out'][0] for player in generated_programs_dict)"
   ]
  },
  {
   "cell_type": "code",
   "execution_count": null,
   "id": "fc8967a2-cab4-4c76-8fe7-1d83c2529717",
   "metadata": {},
   "outputs": [],
   "source": [
    "c"
   ]
  },
  {
   "cell_type": "code",
   "execution_count": null,
   "id": "0af15c80-73a0-416c-b693-25afe73fa05e",
   "metadata": {},
   "outputs": [],
   "source": [
    "count = 0\n",
    "for prompt in generated_programs_dict:\n",
    "    for output in generated_programs_dict[prompt]:\n",
    "        err_c = Counter(generated_programs_dict[prompt][output]['compiler_out'])\n",
    "        print(generated_programs_dict[prompt][output]['compiler_out'])\n",
    "    print(\"\\n\\n\")\n",
    "    count+=1\n",
    "    if count == 3: break\n",
    "        \n"
   ]
  },
  {
   "cell_type": "code",
   "execution_count": null,
   "id": "685364cd-2f58-4ec4-a1fc-b42f23d4fbd3",
   "metadata": {},
   "outputs": [],
   "source": [
    "def count_errors(generated_programs_dict):\n",
    "    true_count = 0\n",
    "    false_count = 0\n",
    "    runtime_error_count = 0\n",
    "    compilation_error_count = 0\n",
    "    \n",
    "    for prompt in generated_programs_dict:\n",
    "        for output in generated_programs_dict[prompt]:\n",
    "            if ( generated_programs_dict[prompt][output]['compiler_out'][0] == True):\n",
    "                true_count+=1\n",
    "            elif ( generated_programs_dict[prompt][output]['compiler_out'][0] == False ):\n",
    "                false_count+=1\n",
    "            elif ( generated_programs_dict[prompt][output]['compiler_out'][0] == -1):\n",
    "                runtime_error_count+=1\n",
    "            elif ( generated_programs_dict[prompt][output]['compiler_out'][0] == -2):\n",
    "                compilation_error_count+=1\n",
    "    return [true_count, false_count, runtime_error_count, compilation_error_count];\n",
    "\n",
    "\n",
    "def select_syntax_errors(generated_programs_dict):\n",
    "    \n",
    "    syntax_error_dict = {}\n",
    "    \n",
    "    for prompt in generated_programs_dict: #Iterate through the outer dict\n",
    "        syntax_error_ids = [] #Reset the list for each new prompt\n",
    "        for output in generated_programs_dict[prompt]: #Iterate through the 5 sub dictionaries generating 5 different code outputs for each prompt\n",
    "            if ( generated_programs_dict[prompt][output]['compiler_out'][0] == -2): #-2 correspond so syntax error\n",
    "                syntax_error_ids.append(output) #Append all the sublevel output ids in one list\n",
    "\n",
    "            if (len(syntax_error_ids) > 0) : syntax_error_dict.update({prompt:syntax_error_ids}) #Then pair that list with the top level dict id if the list is not empty\n",
    "                \n",
    "    return syntax_error_dict\n",
    "\n",
    "\n",
    "def select_runtime_errors(generated_programs_dict):\n",
    "    \n",
    "    runtime_error_dict = {}\n",
    "    \n",
    "    for prompt in generated_programs_dict:\n",
    "        runtime_error_ids = []\n",
    "        for output in generated_programs_dict[prompt]:\n",
    "            if ( generated_programs_dict[prompt][output]['compiler_out'][0] == -1): #-1 corresponds to runtime error\n",
    "                runtime_error_ids.append(output)\n",
    "\n",
    "            if (len(runtime_error_ids) > 0) : runtime_error_dict.update({prompt:runtime_error_ids})\n",
    "                \n",
    "    return runtime_error_dict"
   ]
  },
  {
   "cell_type": "code",
   "execution_count": null,
   "id": "4e88a013-60fd-4fad-a1e7-9cef48b6e286",
   "metadata": {},
   "outputs": [],
   "source": [
    "total_errors = count_errors(generated_programs_dict)"
   ]
  },
  {
   "cell_type": "code",
   "execution_count": null,
   "id": "fff08080-91d5-40f1-bc5a-4779c3d0d3b5",
   "metadata": {},
   "outputs": [],
   "source": [
    "print(total_errors)\n",
    "sum(total_errors)"
   ]
  },
  {
   "cell_type": "code",
   "execution_count": null,
   "id": "47188004-40a3-4460-86c6-47c2612ffd78",
   "metadata": {},
   "outputs": [],
   "source": [
    "error_bars = [ total_errors[0], total_errors[1], (total_errors[2] + total_errors[3]) ]\n",
    "\n",
    "no_error_percentage = round(( error_bars[0] / sum(total_errors) ) * 100, 2)\n",
    "logical_error_percentage = round(( error_bars[1] / sum(total_errors) ) * 100, 2)\n",
    "syntax_or_runtime_error_percentage = round(( error_bars[2] / sum(total_errors) ) * 100, 2)\n",
    "\n",
    "labels = [ f\"No logical error {no_error_percentage}%\", f\"Logical Error {logical_error_percentage}%\", f\"Syntax or Runtime Error {syntax_or_runtime_error_percentage}%\"]\n",
    "\n",
    "plt.bar(labels, error_bars, color =['green', 'maroon', 'blue'],\n",
    "        width = 0.3)\n",
    "\n",
    "plt.title(\"Comparisons of the raw numbers of errors generated across differentet categories\")\n",
    "plt.ylabel(\"Number of programs\")\n"
   ]
  },
  {
   "cell_type": "code",
   "execution_count": null,
   "id": "273cd584-7789-40c1-aa2e-583c30bf4c53",
   "metadata": {},
   "outputs": [],
   "source": [
    "labels = [\"Runtime Error\", \"Syntax Error\"]\n",
    "\n",
    "plt.bar(labels, [ total_errors[2], total_errors[3] ], color =['pink', 'orange'],\n",
    "        width = 0.4)\n",
    "\n",
    "plt.title(\"Breakdown of number of runtime errors vs syntax errors\")\n",
    "plt.ylabel(\"Number of programs\")"
   ]
  },
  {
   "cell_type": "markdown",
   "id": "adbf0270-cc5d-4adf-9d22-7baafd07b552",
   "metadata": {},
   "source": [
    "# Investigating Patterns Within the Incorrect Answers"
   ]
  },
  {
   "cell_type": "markdown",
   "id": "32f68986-405e-4336-a274-f5de8166eb49",
   "metadata": {},
   "source": [
    "### Part 1: Syntax Errors"
   ]
  },
  {
   "cell_type": "code",
   "execution_count": null,
   "id": "2d358efd-be9b-49a0-a53c-cff63bcd3ad0",
   "metadata": {},
   "outputs": [],
   "source": [
    "syntax_errors_dict = select_syntax_errors(generated_programs_dict)"
   ]
  },
  {
   "cell_type": "code",
   "execution_count": null,
   "id": "ddcb0691-b793-4069-9c9f-90eea51c3586",
   "metadata": {},
   "outputs": [],
   "source": [
    "len(syntax_errors_dict)"
   ]
  },
  {
   "cell_type": "code",
   "execution_count": null,
   "id": "9db86380-40a6-4b8b-b06c-ae63c9133183",
   "metadata": {},
   "outputs": [],
   "source": [
    "print(syntax_errors_dict)"
   ]
  },
  {
   "cell_type": "code",
   "execution_count": null,
   "id": "9ef8eda1-f4df-4a36-8109-0a4d3a2579fa",
   "metadata": {},
   "outputs": [],
   "source": [
    "#Print the code generated by the model\n",
    "\n",
    "print(\"Listing all the code that produced syntax errors in the dataset\")\n",
    "print(\"\\n\\n\\n\")\n",
    "\n",
    "for i in syntax_errors_dict:\n",
    "    for j in syntax_errors_dict[i]:\n",
    "        print(\"Prompt:\", i, \", Output program #:\", j)\n",
    "        print( generated_programs_dict[i][j]['program'])\n",
    "        print(\"|===========================================|\")\n",
    "        print(\"\\n\\n\")\n",
    "    "
   ]
  },
  {
   "cell_type": "markdown",
   "id": "9c37b49d-1612-4b7c-a0c9-c75f380cd9b7",
   "metadata": {},
   "source": [
    "### For this portion we are simply eyeballing patterns before developing an automated process later on"
   ]
  },
  {
   "cell_type": "markdown",
   "id": "256817f2-032d-45cd-9d36-a5cd47710b85",
   "metadata": {},
   "source": [
    "\"\"\"\n",
    "Prompt: 1264 , Output program #: 1\n",
    "\n",
    "Assigning to literal, here it makes a series of mistakes.\n",
    "\n",
    ">34 = t23 * t14\n",
    "35 = t24 - t22\n",
    "26 = t26 * t17\n",
    "27 = t26 - t14\n",
    "\n",
    "==================================================================\n",
    "Prompt: 1723 , Output program #: 2\n",
    "\n",
    "Seems to be confused trying to add a decimal point to a variable generating a syntax error. \n",
    "\n",
    ">t4 = n1.0\n",
    "\n",
    "==================================================================\n",
    "Prompt: 1816 , Output program #: 4\n",
    "\n",
    "Again trying to add a decimal point to a variable generating a syntax error.\n",
    "\n",
    ">answer = t9 * t10.0\n",
    "\n",
    "\"\"\""
   ]
  },
  {
   "cell_type": "markdown",
   "id": "94d5632f-1f6f-4f5a-a178-1f1d008b42cc",
   "metadata": {},
   "source": [
    "### Part 2: Runtime Errors"
   ]
  },
  {
   "cell_type": "code",
   "execution_count": null,
   "id": "2088e201-f3e5-4831-9f2a-3f30bcb6fa9b",
   "metadata": {},
   "outputs": [],
   "source": [
    "runtime_errors_dict = select_runtime_errors(generated_programs_dict)"
   ]
  },
  {
   "cell_type": "code",
   "execution_count": null,
   "id": "6ecf43a3-90b3-462a-a53b-04acc1c2c520",
   "metadata": {},
   "outputs": [],
   "source": []
  }
 ],
 "metadata": {
  "kernelspec": {
   "display_name": "Python 3 (ipykernel)",
   "language": "python",
   "name": "python3"
  },
  "language_info": {
   "codemirror_mode": {
    "name": "ipython",
    "version": 3
   },
   "file_extension": ".py",
   "mimetype": "text/x-python",
   "name": "python",
   "nbconvert_exporter": "python",
   "pygments_lexer": "ipython3",
   "version": "3.8.16"
  }
 },
 "nbformat": 4,
 "nbformat_minor": 5
}
