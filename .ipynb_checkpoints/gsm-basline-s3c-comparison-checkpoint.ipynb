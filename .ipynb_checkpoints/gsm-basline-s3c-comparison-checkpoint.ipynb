{
 "cells": [
  {
   "cell_type": "code",
   "execution_count": 1,
   "id": "7958aba6-a935-4714-9c07-1ade87313d73",
   "metadata": {
    "tags": []
   },
   "outputs": [],
   "source": [
    "import os\n",
    "import pandas as pd\n",
    "import matplotlib.pyplot as plt\n",
    "import numpy\n",
    "import json\n",
    "import requests\n",
    "from pprint import pprint\n",
    "from collections import Counter"
   ]
  },
  {
   "cell_type": "code",
   "execution_count": 2,
   "id": "2e7a4f32-784c-4f0e-9312-7d02418a184d",
   "metadata": {
    "tags": []
   },
   "outputs": [],
   "source": [
    "data_dir = \"/Users/ak/tte/data/sample-data/gsm\"\n",
    "\n",
    "basline_dir = data_dir + \"/baseline_pass_20_ckpt_200\" \n",
    "s3c_dir = data_dir + \"/s3c_trace_pass_20_ckpt_1000\" \n",
    "\n",
    "\n",
    "basline_json_file_path = basline_dir + \"/predict_predictions.json\"\n",
    "basline_stat_log_path = basline_dir + \"/predict_results.json\"\n",
    "\n",
    "s3c_json_file_path = s3c_dir + \"/predict_predictions.json\"\n",
    "s3c_stat_log_path = s3c_dir + \"/predict_results.json\""
   ]
  },
  {
   "cell_type": "code",
   "execution_count": 3,
   "id": "612931ae-ac80-401f-8b4f-bd4c02880fbf",
   "metadata": {
    "tags": []
   },
   "outputs": [],
   "source": [
    "basline_stat_log_data = pd.read_json(basline_stat_log_path, typ='series')\n",
    "basline_stat_log_dict = basline_stat_log_data.to_dict()\n",
    "\n",
    "s3c_stat_log_data = pd.read_json(s3c_stat_log_path, typ='series')\n",
    "s3c_stat_log_dict = s3c_stat_log_data.to_dict()"
   ]
  },
  {
   "cell_type": "markdown",
   "id": "52641e1c-18fb-4052-865f-126f44c1ab18",
   "metadata": {
    "tags": []
   },
   "source": [
    "### Basline gsm pass@20 vs s3c round 0 pass@20"
   ]
  },
  {
   "cell_type": "code",
   "execution_count": 4,
   "id": "cb26c946-9321-45d0-bb62-559bf9919fbe",
   "metadata": {
    "tags": []
   },
   "outputs": [
    {
     "name": "stdout",
     "output_type": "stream",
     "text": [
      " Basline: 43.5178% | s3c: 36.8461%\n"
     ]
    }
   ],
   "source": [
    "print(f\" Basline: {basline_stat_log_dict['test_raw_pass@20']}% | s3c: {s3c_stat_log_dict['test_round_0_estimated_pass@20']}%\")"
   ]
  },
  {
   "cell_type": "code",
   "execution_count": 5,
   "id": "b45ce040-da30-4b78-a135-986189f77f4f",
   "metadata": {
    "tags": []
   },
   "outputs": [],
   "source": [
    "basline_json = pd.read_json(basline_json_file_path)\n",
    "baseline_dict = basline_json.to_dict()"
   ]
  },
  {
   "cell_type": "code",
   "execution_count": 6,
   "id": "297530a7-d23a-438c-bfd2-b18135ac732e",
   "metadata": {
    "tags": []
   },
   "outputs": [],
   "source": [
    "s3c_json = pd.read_json(s3c_json_file_path)\n",
    "s3c_dict = s3c_json.to_dict()"
   ]
  },
  {
   "cell_type": "code",
   "execution_count": 7,
   "id": "c685cf5b-8b23-4801-b6cb-0f910eca9ac9",
   "metadata": {
    "tags": []
   },
   "outputs": [],
   "source": [
    "def get_clusters(generated_programs_dict):\n",
    "\n",
    "    clusters_dict = {}\n",
    "    clusters_list = []\n",
    "    \n",
    "    for prompt in generated_programs_dict:\n",
    "        i = 0\n",
    "\n",
    "        programs_list = []\n",
    "        while i < len(generated_programs_dict[prompt]):\n",
    "            programs_list.append( generated_programs_dict[prompt][i]['generated_program'])\n",
    "            i+=1\n",
    "\n",
    "        counts = Counter(programs_list)\n",
    "        \n",
    "        for cluster in counts:\n",
    "            indices = [i for i in range(len(generated_programs_dict[prompt])) if programs_list[i] == cluster]\n",
    "            clusters_list.append(indices)\n",
    "        clusters_dict.update({prompt:clusters_list})\n",
    "        clusters_list = []\n",
    "\n",
    "    return clusters_dict"
   ]
  },
  {
   "cell_type": "code",
   "execution_count": 8,
   "id": "fa0a968c-62d0-485e-b8c9-64527f6fa537",
   "metadata": {
    "tags": []
   },
   "outputs": [],
   "source": [
    "basline_clusters_dict = get_clusters(baseline_dict)\n",
    "s3c_clusters_dict = get_clusters(s3c_dict)"
   ]
  },
  {
   "cell_type": "code",
   "execution_count": 9,
   "id": "fbfda24e-800c-4f80-a3b2-0b05c2dad804",
   "metadata": {
    "tags": []
   },
   "outputs": [],
   "source": [
    "def filter_failed_prompts(baseline_dict):\n",
    "    count = 0 \n",
    "    \n",
    "    failed_list = []\n",
    "        \n",
    "    for prompt in baseline_dict:\n",
    "        fail_state = True\n",
    "        for output in baseline_dict[prompt]:\n",
    "            if(baseline_dict[prompt][output]['compiler_output'][0] == True):\n",
    "                fail_state = False\n",
    "                break\n",
    "        if fail_state:\n",
    "            failed_list.append(prompt)\n",
    "        \n",
    "\n",
    "    return(failed_list)"
   ]
  },
  {
   "cell_type": "code",
   "execution_count": 10,
   "id": "bc152651-761a-4e58-a709-3e9f1c1194b9",
   "metadata": {
    "tags": []
   },
   "outputs": [],
   "source": [
    "def filter_passing_prompts(s3c_dict):\n",
    "    count = 0 \n",
    "    \n",
    "    passed_list = []\n",
    "        \n",
    "    for prompt in s3c_dict:\n",
    "        success_state = False\n",
    "        for output in s3c_dict[prompt]:\n",
    "            if(s3c_dict[prompt][output]['compiler_output'][0] == True):\n",
    "                success_state = True\n",
    "                break\n",
    "        if success_state:\n",
    "            passed_list.append(prompt)\n",
    "        \n",
    "\n",
    "    return(passed_list)"
   ]
  },
  {
   "cell_type": "code",
   "execution_count": 11,
   "id": "81705e3c-e291-4780-862d-67ac4b1c5735",
   "metadata": {
    "tags": []
   },
   "outputs": [],
   "source": [
    "def filter_clusters(generated_programs_dict, clusters_dict, correct_only = None, cluster_size_range = (1,5)):\n",
    "    count = 0 \n",
    "    \n",
    "    filtered_dict = {}\n",
    "    \n",
    "    for cluster_id in clusters_dict:\n",
    "        # if count == 23: break #Debug early stopping\n",
    "        # count+=1\n",
    "\n",
    "        filtered_clusters_list = []\n",
    "        \n",
    "        for cluster in clusters_dict[cluster_id]:\n",
    "            if (cluster_size_range[0] <= (len(clusters_dict[cluster_id])) <= cluster_size_range[1]):\n",
    "                if correct_only == True:\n",
    "                    if (generated_programs_dict[cluster_id][cluster[0]]['compiler_output'][0] == True):\n",
    "                        filtered_clusters_list.append(cluster)\n",
    "                elif correct_only == False:\n",
    "                    if (generated_programs_dict[cluster_id][cluster[0]]['compiler_output'][0] == False):\n",
    "                        #print(cluster_id, cluster[0])\n",
    "                        filtered_clusters_list.append(cluster)\n",
    "                else:\n",
    "                    filtered_clusters_list.append(cluster)\n",
    "                    \n",
    "        if(len(filtered_clusters_list) > 0): filtered_dict.update({cluster_id:filtered_clusters_list})\n",
    "\n",
    "    return(filtered_dict)"
   ]
  },
  {
   "cell_type": "code",
   "execution_count": 12,
   "id": "ede8f7ff-bb29-4612-b244-8727527a0bd0",
   "metadata": {
    "tags": []
   },
   "outputs": [],
   "source": [
    "incorrect_baseline_clusters = filter_clusters(baseline_dict, basline_clusters_dict, False, (1, 20))"
   ]
  },
  {
   "cell_type": "code",
   "execution_count": 13,
   "id": "085ea88b-534b-49a2-8ff6-57d93c9cf74f",
   "metadata": {
    "tags": []
   },
   "outputs": [],
   "source": [
    "def intersection(lst1, lst2):\n",
    "    return list(set(lst1) & set(lst2))"
   ]
  },
  {
   "cell_type": "code",
   "execution_count": 14,
   "id": "a75bb172-4ea7-47fb-88ed-65ab25e317b3",
   "metadata": {
    "tags": []
   },
   "outputs": [
    {
     "name": "stdout",
     "output_type": "stream",
     "text": [
      "156\n",
      "['test_1228', 'test_1141', 'test_674', 'test_523', 'test_304', 'test_731', 'test_380', 'test_48', 'test_1272', 'test_835', 'test_299', 'test_25', 'test_27', 'test_497', 'test_31', 'test_596', 'test_557', 'test_923', 'test_1301', 'test_994', 'test_1133', 'test_1014', 'test_1114', 'test_848', 'test_1082', 'test_906', 'test_840', 'test_877', 'test_745', 'test_1041', 'test_146', 'test_88', 'test_948', 'test_467', 'test_344', 'test_891', 'test_987', 'test_311', 'test_121', 'test_913', 'test_1050', 'test_1000', 'test_726', 'test_1276', 'test_1121', 'test_929', 'test_922', 'test_597', 'test_760', 'test_35', 'test_893', 'test_442', 'test_667', 'test_706', 'test_94', 'test_1013', 'test_774', 'test_768', 'test_39', 'test_147', 'test_905', 'test_649', 'test_743', 'test_673', 'test_615', 'test_1036', 'test_902', 'test_790', 'test_1119', 'test_744', 'test_129', 'test_798', 'test_661', 'test_668', 'test_1047', 'test_964', 'test_177', 'test_1066', 'test_378', 'test_231', 'test_644', 'test_682', 'test_867', 'test_636', 'test_411', 'test_967', 'test_1', 'test_857', 'test_158', 'test_348', 'test_1220', 'test_779', 'test_60', 'test_1144', 'test_95', 'test_438', 'test_859', 'test_791', 'test_356', 'test_704', 'test_1083', 'test_1259', 'test_1315', 'test_710', 'test_916', 'test_239', 'test_53', 'test_1139', 'test_44', 'test_272', 'test_1026', 'test_263', 'test_194', 'test_294', 'test_1237', 'test_969', 'test_585', 'test_349', 'test_900', 'test_1164', 'test_771', 'test_762', 'test_318', 'test_18', 'test_622', 'test_634', 'test_276', 'test_1249', 'test_65', 'test_7', 'test_993', 'test_132', 'test_1305', 'test_637', 'test_255', 'test_525', 'test_978', 'test_852', 'test_829', 'test_1053', 'test_879', 'test_850', 'test_583', 'test_323', 'test_656', 'test_289', 'test_508', 'test_562', 'test_920', 'test_988', 'test_707', 'test_1318', 'test_375', 'test_960', 'test_729', 'test_608']\n"
     ]
    }
   ],
   "source": [
    "#pprint(filter_failed_prompts(baseline_dict))\n",
    "#pprint(filter_passing_prompts(s3c_dict))\n",
    "\n",
    "tf_intersection = intersection(filter_failed_prompts(baseline_dict), filter_passing_prompts(s3c_dict))\n",
    "\n",
    "print( len(tf_intersection) )\n",
    "print( tf_intersection )"
   ]
  },
  {
   "cell_type": "code",
   "execution_count": 15,
   "id": "c9ace48d-cd4e-4e7c-805d-2160f426f09c",
   "metadata": {
    "tags": []
   },
   "outputs": [
    {
     "name": "stdout",
     "output_type": "stream",
     "text": [
      "186\n",
      "['test_1019', 'test_796', 'test_809', 'test_412', 'test_1182', 'test_495', 'test_1283', 'test_1273', 'test_470', 'test_1261', 'test_742', 'test_1264', 'test_1217', 'test_653', 'test_1208', 'test_1177', 'test_530', 'test_652', 'test_647', 'test_522', 'test_477', 'test_927', 'test_447', 'test_51', 'test_1005', 'test_441', 'test_800', 'test_841', 'test_1099', 'test_1058', 'test_1125', 'test_1275', 'test_136', 'test_511', 'test_863', 'test_386', 'test_838', 'test_89', 'test_951', 'test_1064', 'test_1198', 'test_556', 'test_665', 'test_499', 'test_885', 'test_291', 'test_715', 'test_1152', 'test_904', 'test_807', 'test_910', 'test_135', 'test_735', 'test_1170', 'test_1200', 'test_1167', 'test_803', 'test_1078', 'test_396', 'test_206', 'test_578', 'test_107', 'test_1248', 'test_187', 'test_259', 'test_173', 'test_959', 'test_397', 'test_697', 'test_892', 'test_1024', 'test_446', 'test_16', 'test_431', 'test_912', 'test_1279', 'test_759', 'test_1285', 'test_145', 'test_1227', 'test_308', 'test_643', 'test_854', 'test_456', 'test_68', 'test_502', 'test_270', 'test_679', 'test_99', 'test_1233', 'test_148', 'test_1106', 'test_114', 'test_253', 'test_170', 'test_416', 'test_1221', 'test_753', 'test_405', 'test_1042', 'test_166', 'test_801', 'test_360', 'test_1028', 'test_609', 'test_1009', 'test_1134', 'test_1187', 'test_932', 'test_137', 'test_1081', 'test_118', 'test_399', 'test_883', 'test_288', 'test_228', 'test_350', 'test_654', 'test_1209', 'test_506', 'test_836', 'test_524', 'test_191', 'test_284', 'test_489', 'test_279', 'test_471', 'test_670', 'test_3', 'test_939', 'test_485', 'test_19', 'test_394', 'test_614', 'test_519', 'test_628', 'test_17', 'test_750', 'test_50', 'test_407', 'test_1030', 'test_196', 'test_575', 'test_450', 'test_247', 'test_839', 'test_472', 'test_631', 'test_319', 'test_684', 'test_406', 'test_1104', 'test_125', 'test_1054', 'test_156', 'test_452', 'test_577', 'test_1115', 'test_1157', 'test_837', 'test_930', 'test_783', 'test_309', 'test_724', 'test_1032', 'test_748', 'test_1240', 'test_983', 'test_1006', 'test_788', 'test_193', 'test_142', 'test_868', 'test_698', 'test_862', 'test_997', 'test_1284', 'test_21', 'test_1246', 'test_773', 'test_460', 'test_1293', 'test_1111', 'test_0', 'test_398', 'test_64']\n"
     ]
    }
   ],
   "source": [
    "reversed_tf_intersection = intersection(filter_failed_prompts(s3c_dict), filter_passing_prompts(baseline_dict))\n",
    "print(len(reversed_tf_intersection))\n",
    "print(reversed_tf_intersection)"
   ]
  },
  {
   "cell_type": "code",
   "execution_count": 16,
   "id": "40bee1c8-721e-4665-a0ec-f74f25e34231",
   "metadata": {
    "tags": []
   },
   "outputs": [
    {
     "data": {
      "text/plain": [
       "(745, 775)"
      ]
     },
     "execution_count": 16,
     "metadata": {},
     "output_type": "execute_result"
    }
   ],
   "source": [
    "len(filter_failed_prompts(baseline_dict)), len(filter_failed_prompts(s3c_dict))"
   ]
  },
  {
   "cell_type": "code",
   "execution_count": 17,
   "id": "e7d473b1-c628-4a7d-846e-c750347651eb",
   "metadata": {
    "tags": []
   },
   "outputs": [
    {
     "data": {
      "text/plain": [
       "589"
      ]
     },
     "execution_count": 17,
     "metadata": {},
     "output_type": "execute_result"
    }
   ],
   "source": [
    "len( intersection(filter_failed_prompts(s3c_dict), filter_failed_prompts(baseline_dict)) )"
   ]
  },
  {
   "cell_type": "code",
   "execution_count": 18,
   "id": "cda706cf-d0a0-4e85-9800-0c20e69e6c38",
   "metadata": {
    "tags": []
   },
   "outputs": [
    {
     "data": {
      "text/plain": [
       "(574, 544)"
      ]
     },
     "execution_count": 18,
     "metadata": {},
     "output_type": "execute_result"
    }
   ],
   "source": [
    "len(filter_passing_prompts(baseline_dict)), len(filter_passing_prompts(s3c_dict))"
   ]
  },
  {
   "cell_type": "code",
   "execution_count": 19,
   "id": "a7de7242-b440-41e7-8744-300c7bfbbd66",
   "metadata": {
    "tags": []
   },
   "outputs": [
    {
     "name": "stdout",
     "output_type": "stream",
     "text": [
      "0.023076923076923078\n"
     ]
    }
   ],
   "source": [
    "print(30/1300)"
   ]
  },
  {
   "cell_type": "code",
   "execution_count": 20,
   "id": "6e5091bd-ee26-4332-a980-79d8d5dc4390",
   "metadata": {
    "tags": []
   },
   "outputs": [
    {
     "data": {
      "text/plain": [
       "(1319, 1319)"
      ]
     },
     "execution_count": 20,
     "metadata": {},
     "output_type": "execute_result"
    }
   ],
   "source": [
    "len(baseline_dict), len(s3c_dict)"
   ]
  },
  {
   "cell_type": "code",
   "execution_count": 21,
   "id": "16f8a338-2393-4283-9e28-4dd49995956c",
   "metadata": {
    "tags": []
   },
   "outputs": [
    {
     "data": {
      "text/plain": [
       "[[0, 7, 13, 17, 18],\n",
       " [1, 2, 4, 5, 6, 8, 11, 14, 15],\n",
       " [3],\n",
       " [9, 10],\n",
       " [12],\n",
       " [16],\n",
       " [19]]"
      ]
     },
     "execution_count": 21,
     "metadata": {},
     "output_type": "execute_result"
    }
   ],
   "source": [
    "basline_clusters_dict['test_743']"
   ]
  },
  {
   "cell_type": "code",
   "execution_count": 22,
   "id": "d8e7274b-b3dd-4ca7-8e0b-09e398a77ce5",
   "metadata": {},
   "outputs": [],
   "source": [
    "tf_intersection = intersection(filter_failed_prompts(baseline_dict), filter_passing_prompts(s3c_dict))"
   ]
  },
  {
   "cell_type": "code",
   "execution_count": 23,
   "id": "6dcdf454-a443-4c2b-ad55-0de3d5c75c9c",
   "metadata": {
    "tags": []
   },
   "outputs": [],
   "source": [
    "incorrect_baseline_clusters = filter_clusters(baseline_dict, basline_clusters_dict, False, (1, 20))\n",
    "correct_s3c_clusters = filter_clusters(s3c_dict, s3c_clusters_dict, True, (1, 20))"
   ]
  },
  {
   "cell_type": "code",
   "execution_count": 30,
   "id": "8bc2b261-06a5-4b78-87e2-c3a2a8dbd68f",
   "metadata": {
    "tags": []
   },
   "outputs": [
    {
     "name": "stdout",
     "output_type": "stream",
     "text": [
      "('QUESTION:\\n'\n",
      " 'Helen went on a trip through Germany. She booked a hotel for 3 nights and '\n",
      " 'rode the bus 7 times during that trip. One night at the hotel was a cost of '\n",
      " '$80, and every bus trip was 10% of the price of one night at the hotel. How '\n",
      " 'much did Helen pay for the hotel and bus travels during that trip?\\n'\n",
      " 'ANSWER:\\n')\n"
     ]
    }
   ],
   "source": [
    "pprint(baseline_dict['test_1272'][0]['prompt'])"
   ]
  },
  {
   "cell_type": "code",
   "execution_count": null,
   "id": "6d707b65-9415-42b7-9d65-87bc2ce648ba",
   "metadata": {
    "tags": []
   },
   "outputs": [],
   "source": [
    "def get_longest(lst):\n",
    "    return max(lst, key=len)\n",
    "\n",
    "def find_overlap( tf_intersection, baseline_dict, s3c_dict, incorrect_basline_clusters, correct_s3c_clusters): #Print the cases where one model gets the answer wrong and the other gets it right\n",
    "    count = 0\n",
    "    for prompt in tf_intersection:\n",
    "        #print(s3c_clusters_dict[prompt])\n",
    "        \n",
    "        if prompt in incorrect_basline_clusters and prompt in correct_s3c_clusters:\n",
    "            basline_cluster = (get_longest(incorrect_basline_clusters[prompt])) #longest wrong baseline cluster\n",
    "            s3c_cluster = (get_longest(correct_s3c_clusters[prompt])) #longest correct s3c cluster\n",
    "        \n",
    "            if s3c_dict[prompt][s3c_cluster[0]]['round_no'] == 0: \n",
    "                print( f\"Prompt: {prompt} \\n\")\n",
    "                print(f\"Count: {count}\")\n",
    "                count+=1\n",
    "                print(\"Incorrect Baseline Generation: \\n\")\n",
    "                print( baseline_dict[prompt][basline_cluster[0]]['generated_program'] )\n",
    "\n",
    "                gt_ans = baseline_dict[prompt][basline_cluster[0]]['expected_answer']\n",
    "                gen_ans_b = baseline_dict[prompt][basline_cluster[0]]['compiler_output'][2]\n",
    "                print(f\"Generated Answer: {gen_ans_b}\") \n",
    "\n",
    "                print(\"----------------------------------------------------------------\")\n",
    "\n",
    "                print(\"Correct S3C Generation: \\n\")\n",
    "                print( s3c_dict[prompt][s3c_cluster[0]]['generated_program'] )\n",
    "\n",
    "                #gt_ans_s3 = s3c_dict[prompt][s3c_cluster[0]]['expected_answer']\n",
    "                gen_ans_s3 = s3c_dict[prompt][s3c_cluster[0]]['compiler_output'][2]\n",
    "                print(f\"Generated Answer: {gen_ans_s3}\") \n",
    "                print(\"----------------------------------------------------------------\")\n",
    "                \n",
    "                print(\"Ground Truth Program: \\n\")\n",
    "                print( baseline_dict[prompt][0]['ground_truth_program'] )\n",
    "                print(f\"Ground Truth Answer: {gt_ans}\") \n",
    "                \n",
    "                print(\"----------------------------------------------------------------\")\n",
    "                print(\"Notes: \")\n",
    "                print(\"|=================================================================================================================================|\\n\")\n",
    "        "
   ]
  },
  {
   "cell_type": "code",
   "execution_count": null,
   "id": "5e3535ec-a848-49f3-ad80-c4b901ae1382",
   "metadata": {},
   "outputs": [],
   "source": [
    "#find_overlap(tf_intersection, baseline_dict, s3c_dict, incorrect_baseline_clusters, correct_s3c_clusters) #Print cases where basline solved the prompt incorrect and s3c solved it correctly"
   ]
  },
  {
   "cell_type": "code",
   "execution_count": null,
   "id": "9e412250-bbef-4e26-bd71-b507c06b07d5",
   "metadata": {
    "tags": []
   },
   "outputs": [],
   "source": [
    "find_overlap(tf_intersection, baseline_dict, s3c_dict, incorrect_baseline_clusters, correct_s3c_clusters)"
   ]
  },
  {
   "cell_type": "code",
   "execution_count": null,
   "id": "433abbd7-6113-42f5-a9b7-b30584e5a129",
   "metadata": {},
   "outputs": [],
   "source": []
  }
 ],
 "metadata": {
  "kernelspec": {
   "display_name": "Python 3 (ipykernel)",
   "language": "python",
   "name": "python3"
  },
  "language_info": {
   "codemirror_mode": {
    "name": "ipython",
    "version": 3
   },
   "file_extension": ".py",
   "mimetype": "text/x-python",
   "name": "python",
   "nbconvert_exporter": "python",
   "pygments_lexer": "ipython3",
   "version": "3.11.3"
  }
 },
 "nbformat": 4,
 "nbformat_minor": 5
}
