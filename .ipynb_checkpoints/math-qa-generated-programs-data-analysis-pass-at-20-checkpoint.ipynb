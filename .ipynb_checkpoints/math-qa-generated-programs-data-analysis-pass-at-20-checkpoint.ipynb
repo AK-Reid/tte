{
 "cells": [
  {
   "cell_type": "code",
   "execution_count": 1,
   "id": "c1a1cf78-906f-4c65-883c-1959b56c639f",
   "metadata": {},
   "outputs": [],
   "source": [
    "import os\n",
    "import pandas as pd\n",
    "import matplotlib.pyplot as plt\n",
    "import numpy\n",
    "import json\n",
    "import requests\n",
    "from collections import Counter"
   ]
  },
  {
   "cell_type": "code",
   "execution_count": 2,
   "id": "ef7f58cc-5c3a-4a31-aee8-d4a4ae29c7d2",
   "metadata": {},
   "outputs": [],
   "source": [
    "data_dir = \"/Users/ak/tte/data/sample-data/mathqa-pass-at-20/baseline_par/pass_20_ckpt_2000\" #OSX\n",
    "json_file_path = data_dir + \"/predict_predictions.json\"\n",
    "stat_log_path = data_dir + \"/predict_results.json\""
   ]
  },
  {
   "cell_type": "code",
   "execution_count": 3,
   "id": "4a6a048a-f96f-41af-a989-4fbae5ba7215",
   "metadata": {},
   "outputs": [],
   "source": [
    "# data_dir = \"/home/ak/tte/data/sample-data/basline_pass_5_ckpt_12k\" #Linux\n",
    "# json_file_path = data_dir + \"/generated_program_infos.json\"\n",
    "# stat_log_path = data_dir + \"/stat_log.json\""
   ]
  },
  {
   "cell_type": "code",
   "execution_count": 4,
   "id": "eac45c9f-0342-4e74-ac4e-50fa9289d9c5",
   "metadata": {},
   "outputs": [],
   "source": [
    "# data_dir = \"C:\\\\tte\\\\data\\\\sample-data\\\\mathqa-pass-at-20\\\\baseline_par\\\\pass_20_ckpt_2000\" #Widows\n",
    "# json_file_path = data_dir + \"\\\\predict_predictions.json\"\n",
    "# stat_log_path = data_dir + \"\\\\predict_results.json\""
   ]
  },
  {
   "cell_type": "code",
   "execution_count": 5,
   "id": "59287865-ad17-4d42-801c-0b15e3ee92aa",
   "metadata": {},
   "outputs": [],
   "source": [
    "stat_log_data = pd.read_json(stat_log_path, typ='series')\n",
    "stat_log_dict = stat_log_data.to_dict()"
   ]
  },
  {
   "cell_type": "markdown",
   "id": "d1104d9b-c613-421e-8894-287ddea00452",
   "metadata": {},
   "source": [
    "### Pass @ 20 Percentage"
   ]
  },
  {
   "cell_type": "code",
   "execution_count": 6,
   "id": "ed8708a2-525a-452f-b5d8-30c06a1ed1eb",
   "metadata": {},
   "outputs": [
    {
     "name": "stdout",
     "output_type": "stream",
     "text": [
      "75.0398%\n"
     ]
    }
   ],
   "source": [
    "print(f\"{stat_log_dict['test_raw_pass@20']}%\")"
   ]
  },
  {
   "cell_type": "code",
   "execution_count": 7,
   "id": "ee90a256-80fb-46ae-9a20-060ad8fdaa95",
   "metadata": {},
   "outputs": [],
   "source": [
    "json_data = pd.read_json(json_file_path)"
   ]
  },
  {
   "cell_type": "code",
   "execution_count": 8,
   "id": "ca91a23f-e6d1-4f08-8769-5bb356e9d052",
   "metadata": {},
   "outputs": [],
   "source": [
    "json_obj = json.dumps(json_file_path)"
   ]
  },
  {
   "cell_type": "code",
   "execution_count": 9,
   "id": "f604ac72-f686-47f7-942f-21572873a0d1",
   "metadata": {},
   "outputs": [],
   "source": [
    "generated_programs_dict = json_data.to_dict()"
   ]
  },
  {
   "cell_type": "code",
   "execution_count": 10,
   "id": "2937e640-e626-4fc6-9e56-5a00c57e8d0e",
   "metadata": {},
   "outputs": [],
   "source": [
    "#df = pd.json_normalize(data)"
   ]
  },
  {
   "cell_type": "code",
   "execution_count": 11,
   "id": "a9e80579-127c-4ea3-89fb-a606d4adf23c",
   "metadata": {},
   "outputs": [],
   "source": [
    "#json_data.head()"
   ]
  },
  {
   "cell_type": "code",
   "execution_count": 12,
   "id": "a6fe254f-480c-4e7b-a601-8d822b7b90fa",
   "metadata": {},
   "outputs": [],
   "source": [
    "#generated_programs_dict['test_0']"
   ]
  },
  {
   "cell_type": "code",
   "execution_count": 13,
   "id": "df02129d-fd94-4584-876d-d9e765663ec5",
   "metadata": {},
   "outputs": [
    {
     "data": {
      "text/plain": [
       "{'prompt': 'QUESTION:\\n# a shopkeeper sold an article offering a discount of 5 % and earned a profit of 31.1 %. what would have been the percentage of profit earned if no discount had been offered? n0 = 5.0 n1 = 31.1\\nANSWER:\\n',\n",
       " 'ground_truth_program': 'n0 = 5.0\\nn1 = 31.1\\nt0 = n1 + 100.0\\nt1 = 100.0 - n0\\nt2 = t0 * 100.0\\nt3 = t2 / t1\\nanswer = t3 - 100.0',\n",
       " 'generated_program': 'n0 = 5.0\\nn1 = 31.1\\nt0 = n1 + 100.0\\nt1 = 100.0 - n0\\nt2 = t0 * 100.0\\nt3 = t2 / t1\\nanswer = t3 - 100.0\\n',\n",
       " 'compiler_output': [True, 'None', '38.0', ''],\n",
       " 'expected_answer': 38.0}"
      ]
     },
     "execution_count": 13,
     "metadata": {},
     "output_type": "execute_result"
    }
   ],
   "source": [
    "generated_programs_dict[0][0]"
   ]
  },
  {
   "cell_type": "code",
   "execution_count": 14,
   "id": "0ba89f3c-fb89-4b55-aec5-141dfee93fa6",
   "metadata": {},
   "outputs": [
    {
     "data": {
      "text/plain": [
       "[True, 'None', '38.0', '']"
      ]
     },
     "execution_count": 14,
     "metadata": {},
     "output_type": "execute_result"
    }
   ],
   "source": [
    "generated_programs_dict[0][0]['compiler_output']"
   ]
  },
  {
   "cell_type": "code",
   "execution_count": 15,
   "id": "7f370d39-b1fa-49f7-9d0a-11d5454f4ec0",
   "metadata": {},
   "outputs": [
    {
     "data": {
      "text/plain": [
       "True"
      ]
     },
     "execution_count": 15,
     "metadata": {},
     "output_type": "execute_result"
    }
   ],
   "source": [
    "generated_programs_dict[0][0]['compiler_output'][0]"
   ]
  },
  {
   "cell_type": "code",
   "execution_count": 16,
   "id": "685364cd-2f58-4ec4-a1fc-b42f23d4fbd3",
   "metadata": {},
   "outputs": [],
   "source": [
    "def count_errors(generated_programs_dict):\n",
    "    true_count = 0\n",
    "    false_count = 0\n",
    "    runtime_error_count = 0\n",
    "    compilation_error_count = 0\n",
    "    \n",
    "    for prompt in generated_programs_dict:\n",
    "        for output in generated_programs_dict[prompt]:\n",
    "            if ( generated_programs_dict[prompt][output]['compiler_output'][0] == True):\n",
    "                true_count+=1\n",
    "            elif ( generated_programs_dict[prompt][output]['compiler_output'][0] == False ):\n",
    "                false_count+=1\n",
    "            elif ( generated_programs_dict[prompt][output]['compiler_output'][0] == -1):\n",
    "                runtime_error_count+=1\n",
    "            elif ( generated_programs_dict[prompt][output]['compiler_output'][0] == -2):\n",
    "                compilation_error_count+=1\n",
    "    return [true_count, false_count, runtime_error_count, compilation_error_count];\n",
    "\n",
    "\n",
    "def select_syntax_errors(generated_programs_dict):\n",
    "    \n",
    "    syntax_error_dict = {}\n",
    "    \n",
    "    for prompt in generated_programs_dict: #Iterate through the outer dict\n",
    "        syntax_error_ids = [] #Reset the list for each new prompt\n",
    "        for output in generated_programs_dict[prompt]: #Iterate through the 5 sub dictionaries generating 5 different code outputs for each prompt\n",
    "            if ( generated_programs_dict[prompt][output]['compiler_output'][0] == -2): #-2 correspond so syntax error\n",
    "                syntax_error_ids.append(output) #Append all the sublevel output ids in one list\n",
    "\n",
    "            if (len(syntax_error_ids) > 0) : syntax_error_dict.update({prompt:syntax_error_ids}) #Then pair that list with the top level dict id if the list is not empty\n",
    "                \n",
    "    return syntax_error_dict\n",
    "\n",
    "\n",
    "def select_runtime_errors(generated_programs_dict):\n",
    "    \n",
    "    runtime_error_dict = {}\n",
    "    \n",
    "    for prompt in generated_programs_dict:\n",
    "        runtime_error_ids = []\n",
    "        for output in generated_programs_dict[prompt]:\n",
    "            if ( generated_programs_dict[prompt][output]['compiler_output'][0] == -1): #-1 corresponds to runtime error\n",
    "                runtime_error_ids.append(output)\n",
    "\n",
    "            if (len(runtime_error_ids) > 0) : runtime_error_dict.update({prompt:runtime_error_ids})\n",
    "                \n",
    "    return runtime_error_dict\n",
    "\n",
    "\n",
    "def select_logical_errors(generated_programs_dict):\n",
    "    \n",
    "    logical_error_dict = {}\n",
    "    \n",
    "    for prompt in generated_programs_dict:\n",
    "        logical_error_ids = []\n",
    "        for output in generated_programs_dict[prompt]:\n",
    "            if ( generated_programs_dict[prompt][output]['compiler_output'][0] == False): #false corresponds to a wrong answer, implying a logical error\n",
    "                logical_error_ids.append(output)\n",
    "\n",
    "            if (len(logical_error_ids) > 0) : logical_error_dict.update({prompt:logical_error_ids})\n",
    "                \n",
    "    return logical_error_dict\n",
    "\n",
    "def pretty(d, indent=0):\n",
    "   for key, value in d.items():\n",
    "      print('\\t' * indent + str(key))\n",
    "      if isinstance(value, dict):\n",
    "         pretty(value, indent+1)\n",
    "      else:\n",
    "         print('\\t' * (indent+1) + str(value))"
   ]
  },
  {
   "cell_type": "code",
   "execution_count": 17,
   "id": "4e88a013-60fd-4fad-a1e7-9cef48b6e286",
   "metadata": {},
   "outputs": [],
   "source": [
    "total_errors = count_errors(generated_programs_dict)"
   ]
  },
  {
   "cell_type": "code",
   "execution_count": 18,
   "id": "fff08080-91d5-40f1-bc5a-4779c3d0d3b5",
   "metadata": {},
   "outputs": [
    {
     "name": "stdout",
     "output_type": "stream",
     "text": [
      "[26001, 11597, 62, 0]\n"
     ]
    },
    {
     "data": {
      "text/plain": [
       "37660"
      ]
     },
     "execution_count": 18,
     "metadata": {},
     "output_type": "execute_result"
    }
   ],
   "source": [
    "print(total_errors)\n",
    "sum(total_errors)"
   ]
  },
  {
   "cell_type": "code",
   "execution_count": 19,
   "id": "47188004-40a3-4460-86c6-47c2612ffd78",
   "metadata": {},
   "outputs": [
    {
     "data": {
      "text/plain": [
       "Text(0, 0.5, 'Number of programs')"
      ]
     },
     "execution_count": 19,
     "metadata": {},
     "output_type": "execute_result"
    },
    {
     "data": {
      "image/png": "[encoded data removed]",
      "text/plain": [
       "<Figure size 640x480 with 1 Axes>"
      ]
     },
     "metadata": {},
     "output_type": "display_data"
    }
   ],
   "source": [
    "error_bars = [ total_errors[0], total_errors[1], (total_errors[2] + total_errors[3]) ]\n",
    "\n",
    "no_error_percentage = round(( error_bars[0] / sum(total_errors) ) * 100, 2)\n",
    "logical_error_percentage = round(( error_bars[1] / sum(total_errors) ) * 100, 2)\n",
    "syntax_or_runtime_error_percentage = round(( error_bars[2] / sum(total_errors) ) * 100, 2)\n",
    "\n",
    "labels = [ f\"No logical error {no_error_percentage}%\", f\"Logical Error {logical_error_percentage}%\", f\"Syntax or Runtime Error {syntax_or_runtime_error_percentage}%\"]\n",
    "\n",
    "plt.bar(labels, error_bars, color =['green', 'maroon', 'blue'],\n",
    "        width = 0.3)\n",
    "\n",
    "plt.title(\"Comparisons of the raw numbers of errors generated across differentet categories\")\n",
    "plt.ylabel(\"Number of programs\")\n"
   ]
  },
  {
   "cell_type": "code",
   "execution_count": 20,
   "id": "273cd584-7789-40c1-aa2e-583c30bf4c53",
   "metadata": {},
   "outputs": [
    {
     "data": {
      "text/plain": [
       "Text(0, 0.5, 'Number of programs')"
      ]
     },
     "execution_count": 20,
     "metadata": {},
     "output_type": "execute_result"
    },
    {
     "data": {
      "image/png": "[encoded data removed]",
      "text/plain": [
       "<Figure size 640x480 with 1 Axes>"
      ]
     },
     "metadata": {},
     "output_type": "display_data"
    }
   ],
   "source": [
    "labels = [\"Runtime Error\", \"Syntax Error\"]\n",
    "\n",
    "plt.bar(labels, [ total_errors[2], total_errors[3] ], color =['pink', 'orange'],\n",
    "        width = 0.4)\n",
    "\n",
    "plt.title(\"Breakdown of number of runtime errors vs syntax errors\")\n",
    "plt.ylabel(\"Number of programs\")"
   ]
  },
  {
   "cell_type": "markdown",
   "id": "31d4b9d5-8b83-4b0c-9671-4b2435014e8b",
   "metadata": {},
   "source": [
    "## Part 3: Logical Errors"
   ]
  },
  {
   "cell_type": "code",
   "execution_count": 21,
   "id": "e3898868-b6a4-4679-a9b5-3fae4dc6001e",
   "metadata": {},
   "outputs": [],
   "source": [
    "logical_errors_dict = select_logical_errors(generated_programs_dict)"
   ]
  },
  {
   "cell_type": "code",
   "execution_count": 22,
   "id": "fdb9252f-815c-4325-af7e-b7a07362dea9",
   "metadata": {},
   "outputs": [
    {
     "data": {
      "text/plain": [
       "714"
      ]
     },
     "execution_count": 22,
     "metadata": {},
     "output_type": "execute_result"
    }
   ],
   "source": [
    "len(logical_errors_dict)"
   ]
  },
  {
   "cell_type": "code",
   "execution_count": 23,
   "id": "905f012b-41ea-49d4-84ac-29c31449d2a2",
   "metadata": {},
   "outputs": [],
   "source": [
    "def bulk_sum(*args):\n",
    "    return sum(args)"
   ]
  },
  {
   "cell_type": "code",
   "execution_count": 24,
   "id": "5108f7a3-2081-4246-8216-f5e699322479",
   "metadata": {},
   "outputs": [
    {
     "name": "stdout",
     "output_type": "stream",
     "text": [
      "CPU times: user 36 ms, sys: 1.48 ms, total: 37.5 ms\n",
      "Wall time: 14.3 ms\n"
     ]
    }
   ],
   "source": [
    "%%time\n",
    "from pprint import pprint\n",
    "\n",
    "def get_clusters(generated_programs_dict):\n",
    "\n",
    "    clusters_dict = {}\n",
    "    clusters_list = []\n",
    "    \n",
    "    for prompt in generated_programs_dict:\n",
    "        i = 0\n",
    "\n",
    "        programs_list = []\n",
    "        while i < len(generated_programs_dict[prompt]):\n",
    "            programs_list.append( generated_programs_dict[prompt][i]['generated_program'])\n",
    "            i+=1\n",
    "\n",
    "        counts = Counter(programs_list)\n",
    "        \n",
    "        for cluster in counts:\n",
    "            indices = [i for i in range(len(generated_programs_dict[prompt])) if programs_list[i] == cluster]\n",
    "            clusters_list.append(indices)\n",
    "        clusters_dict.update({prompt:clusters_list})\n",
    "        clusters_list = []\n",
    "\n",
    "    return clusters_dict\n",
    "\n",
    "\n",
    "\n",
    "clusters_dict = get_clusters(generated_programs_dict)\n",
    "#pprint(clusters_dict)"
   ]
  },
  {
   "cell_type": "code",
   "execution_count": 25,
   "id": "88526cd3-bb6c-403b-ba98-24ce62eadc19",
   "metadata": {},
   "outputs": [],
   "source": [
    "def count_clusters(clusters_dict):\n",
    "    one_cluster = 0\n",
    "    two_cluster = 0\n",
    "    three_cluster = 0\n",
    "    four_cluster = 0\n",
    "    five_cluster = 0\n",
    "    six_cluster = 0\n",
    "    seven_cluster = 0\n",
    "    eight_cluster = 0\n",
    "    nine_cluster = 0\n",
    "    ten_cluster = 0\n",
    "    eleven_cluster = 0\n",
    "    twelve_cluster = 0\n",
    "    thirteen_cluster = 0\n",
    "    fourteen_cluster = 0\n",
    "    fifteen_cluster = 0\n",
    "    sixteen_cluster = 0\n",
    "    seventeen_cluster = 0\n",
    "    eighteen_cluster = 0\n",
    "    nineteen_cluster = 0\n",
    "    twenty_cluster = 0\n",
    "    \n",
    "    for i in clusters_dict:\n",
    "        if len(clusters_dict[i]) == 1:\n",
    "            one_cluster += 1\n",
    "        elif len(clusters_dict[i]) == 2:\n",
    "            two_cluster += 1\n",
    "        elif len(clusters_dict[i]) == 3:\n",
    "            three_cluster += 1\n",
    "        elif len(clusters_dict[i]) == 4:\n",
    "            four_cluster += 1\n",
    "        elif len(clusters_dict[i]) == 5:\n",
    "            five_cluster += 1\n",
    "        elif len(clusters_dict[i]) == 6:\n",
    "            six_cluster += 1\n",
    "        elif len(clusters_dict[i]) == 7:\n",
    "            seven_cluster += 1\n",
    "        elif len(clusters_dict[i]) == 8:\n",
    "            eight_cluster += 1\n",
    "        elif len(clusters_dict[i]) == 9:\n",
    "            nine_cluster += 1\n",
    "        elif len(clusters_dict[i]) == 10:\n",
    "            ten_cluster += 1\n",
    "        elif len(clusters_dict[i]) == 11:\n",
    "            eleven_cluster += 1\n",
    "        elif len(clusters_dict[i]) == 12:\n",
    "            twelve_cluster += 1\n",
    "        elif len(clusters_dict[i]) == 13:\n",
    "            thirteen_cluster += 1\n",
    "        elif len(clusters_dict[i]) == 14:\n",
    "            fourteen_cluster += 1\n",
    "        elif len(clusters_dict[i]) == 15:\n",
    "            fifteen_cluster += 1\n",
    "        elif len(clusters_dict[i]) == 16:\n",
    "            sixteen_cluster += 1\n",
    "        elif len(clusters_dict[i]) == 17:\n",
    "            seventeen_cluster += 1\n",
    "        elif len(clusters_dict[i]) == 18:\n",
    "            eighteen_cluster += 1\n",
    "        elif len(clusters_dict[i]) == 19:\n",
    "            nineteen_cluster += 1\n",
    "        elif len(clusters_dict[i]) == 20:\n",
    "            twenty_cluster += 1\n",
    "\n",
    "    return [one_cluster, two_cluster, three_cluster, four_cluster, five_cluster, six_cluster, \n",
    "            seven_cluster, eight_cluster, nine_cluster, ten_cluster, eleven_cluster, \n",
    "            twelve_cluster, thirteen_cluster, fourteen_cluster, fifteen_cluster, \n",
    "            sixteen_cluster, seventeen_cluster, eighteen_cluster, nineteen_cluster, twenty_cluster]\n"
   ]
  },
  {
   "cell_type": "code",
   "execution_count": 26,
   "id": "ffff6929-7702-44f5-b0a9-d441c0866d3f",
   "metadata": {},
   "outputs": [
    {
     "name": "stdout",
     "output_type": "stream",
     "text": [
      "[1275, 193, 127, 78, 45, 41, 35, 16, 11, 12, 11, 14, 10, 8, 2, 3, 1, 1, 0, 0]\n",
      "20\n",
      "1883\n",
      "CPU times: user 482 µs, sys: 11 µs, total: 493 µs\n",
      "Wall time: 169 µs\n"
     ]
    }
   ],
   "source": [
    "%%time\n",
    "cluster_count_list = count_clusters(clusters_dict)\n",
    "print(cluster_count_list)\n",
    "print(len(cluster_count_list))\n",
    "print(sum(cluster_count_list))"
   ]
  },
  {
   "cell_type": "code",
   "execution_count": 27,
   "id": "fc4b6b9e-ab31-4b1e-8d2a-e901f47be339",
   "metadata": {},
   "outputs": [
    {
     "data": {
      "image/png": "[encoded data removed]",
      "text/plain": [
       "<Figure size 2000x600 with 1 Axes>"
      ]
     },
     "metadata": {},
     "output_type": "display_data"
    }
   ],
   "source": [
    "error_bars = [ cluster_count_list[0], cluster_count_list[1], cluster_count_list[2],cluster_count_list[3], cluster_count_list[4],\n",
    "             cluster_count_list[5], cluster_count_list[6], cluster_count_list[7],cluster_count_list[8], cluster_count_list[9],\n",
    "             cluster_count_list[10], cluster_count_list[11], cluster_count_list[12],cluster_count_list[13], cluster_count_list[14],\n",
    "             cluster_count_list[15], cluster_count_list[16], cluster_count_list[17],cluster_count_list[18], cluster_count_list[19]]\n",
    "\n",
    "one_cluster_percentage = round((error_bars[0] / sum(error_bars)) * 100, 2)\n",
    "two_cluster_percentage = round((error_bars[1] / sum(error_bars)) * 100, 2)\n",
    "three_cluster_percentage = round((error_bars[2] / sum(error_bars)) * 100, 2)\n",
    "four_cluster_percentage = round((error_bars[3] / sum(error_bars)) * 100, 2)\n",
    "five_cluster_percentage = round((error_bars[4] / sum(error_bars)) * 100, 2)\n",
    "six_cluster_percentage = round((error_bars[5] / sum(error_bars)) * 100, 2)\n",
    "seven_cluster_percentage = round((error_bars[6] / sum(error_bars)) * 100, 2)\n",
    "eight_cluster_percentage = round((error_bars[7] / sum(error_bars)) * 100, 2)\n",
    "nine_cluster_percentage = round((error_bars[8] / sum(error_bars)) * 100, 2)\n",
    "ten_cluster_percentage = round((error_bars[9] / sum(error_bars)) * 100, 2)\n",
    "eleven_cluster_percentage = round((error_bars[10] / sum(error_bars)) * 100, 2)\n",
    "twelve_cluster_percentage = round((error_bars[11] / sum(error_bars)) * 100, 2)\n",
    "thirteen_cluster_percentage = round((error_bars[12] / sum(error_bars)) * 100, 2)\n",
    "fourteen_cluster_percentage = round((error_bars[13] / sum(error_bars)) * 100, 2)\n",
    "fifteen_cluster_percentage = round((error_bars[14] / sum(error_bars)) * 100, 2)\n",
    "sixteen_cluster_percentage = round((error_bars[15] / sum(error_bars)) * 100, 2)\n",
    "seventeen_cluster_percentage = round((error_bars[16] / sum(error_bars)) * 100, 2)\n",
    "eighteen_cluster_percentage = round((error_bars[17] / sum(error_bars)) * 100, 2)\n",
    "nineteen_cluster_percentage = round((error_bars[18] / sum(error_bars)) * 100, 2)\n",
    "twenty_cluster_percentage = round((error_bars[19] / sum(error_bars)) * 100, 2)\n",
    "\n",
    "\n",
    "labels = [\n",
    "    f\"1 {one_cluster_percentage}%\",\n",
    "    f\"2 {two_cluster_percentage}%\",\n",
    "    f\"3 {three_cluster_percentage}%\",\n",
    "    f\"4 {four_cluster_percentage}%\",\n",
    "    f\"5 {five_cluster_percentage}%\",\n",
    "    f\"6 {six_cluster_percentage}%\",\n",
    "    f\"7 {seven_cluster_percentage}%\",\n",
    "    f\"8 {eight_cluster_percentage}%\",\n",
    "    f\"9 {nine_cluster_percentage}%\",\n",
    "    f\"10 {ten_cluster_percentage}%\",\n",
    "    f\"11 {eleven_cluster_percentage}%\",\n",
    "    f\"12 {twelve_cluster_percentage}%\",\n",
    "    f\"13 {thirteen_cluster_percentage}%\",\n",
    "    f\"14 {fourteen_cluster_percentage}%\",\n",
    "    f\"15 {fifteen_cluster_percentage}%\",\n",
    "    f\"16 {sixteen_cluster_percentage}%\",\n",
    "    f\"17 {seventeen_cluster_percentage}%\",\n",
    "    f\"18 {eighteen_cluster_percentage}%\",\n",
    "    f\"19 {nineteen_cluster_percentage}%\",\n",
    "    f\"20 {twenty_cluster_percentage}%\"\n",
    "]\n",
    "\n",
    "\n",
    "plt.figure(figsize=(20,6))\n",
    "plt.title(\"Frequency of groups of identical programs the model outputs\\n\\n One cluster means the model produced twenty identical programs, twenty clusters means the model produced 20 unique programs\")\n",
    "plt.ylabel(\"Number of programs\")\n",
    "plt.bar(labels, error_bars, color = ['green', 'yellow', 'blue', 'pink', 'teal', 'red', 'orange', \n",
    "                                     'purple', 'brown', 'gray', 'black', 'tan', 'cyan', 'magenta', \n",
    "                                     'lime', 'indigo', 'violet', 'olive', 'navy', 'silver'],\n",
    "                                        width = 0.3)\n",
    "plt.show()\n"
   ]
  },
  {
   "cell_type": "code",
   "execution_count": 28,
   "id": "445ee9ca-753c-4f1e-8065-14e220dcb2cc",
   "metadata": {},
   "outputs": [],
   "source": [
    "# for i in clusters_dict:\n",
    "#     if(len(clusters_dict[i]) == 5):\n",
    "#         print(i, clusters_dict[i])"
   ]
  },
  {
   "cell_type": "code",
   "execution_count": 29,
   "id": "669beaaa-8345-4833-8059-81a77b71b085",
   "metadata": {},
   "outputs": [],
   "source": [
    "# def filter_clusters(generated_programs_dict, clusters_dict, correct_only = True, cluster_range = (0,4)):\n",
    "#     if correct_only:\n",
    "#         for i in clusters_dict:\n",
    "#             clusters_dict[i] = "
   ]
  },
  {
   "cell_type": "code",
   "execution_count": 30,
   "id": "d8f5907f-a383-4037-bad1-4cebca42de34",
   "metadata": {},
   "outputs": [
    {
     "name": "stdout",
     "output_type": "stream",
     "text": [
      "GT:  1883\n",
      "T + F : 1934\n"
     ]
    }
   ],
   "source": [
    "def filter_clusters(generated_programs_dict, clusters_dict, correct_only = None, cluster_size_range = (1,5)):\n",
    "    count = 0 \n",
    "    \n",
    "    filtered_dict = {}\n",
    "    \n",
    "    for cluster_id in clusters_dict:\n",
    "        # if count == 23: break #Debug early stopping\n",
    "        # count+=1\n",
    "\n",
    "        filtered_clusters_list = []\n",
    "        \n",
    "        for cluster in clusters_dict[cluster_id]:\n",
    "            if ( cluster_size_range[0] <= (len(clusters_dict[cluster_id])) <= cluster_size_range[1] ):\n",
    "                if correct_only == True:\n",
    "                    if (generated_programs_dict[cluster_id][cluster[0]]['compiler_output'][0] == True):\n",
    "                        filtered_clusters_list.append(cluster)\n",
    "                elif correct_only == False:\n",
    "                    if (generated_programs_dict[cluster_id][cluster[0]]['compiler_output'][0] == False):\n",
    "                        #print(cluster_id, cluster[0])\n",
    "                        filtered_clusters_list.append(cluster)\n",
    "                else:\n",
    "                    filtered_clusters_list.append(cluster)\n",
    "                    \n",
    "        if(len(filtered_clusters_list) > 0): filtered_dict.update({cluster_id:filtered_clusters_list})\n",
    "\n",
    "        #print(cluster_id)\n",
    "\n",
    "    return(filtered_dict)\n",
    "\n",
    "\n",
    "filtered_cl_dict = filter_clusters(generated_programs_dict, clusters_dict, None, (1,20))\n",
    "#print(len(filtered_cl_dict))\n",
    "print(\"GT: \",  len(filtered_cl_dict))\n",
    "print(\"T + F :\", len(filter_clusters(generated_programs_dict, clusters_dict, True, (1,5))) + len(filter_clusters(generated_programs_dict, clusters_dict, False, (1,5))) )\n",
    "#print(\"Note: The number of clusters exceeds the number of programs naturally. This code checks if the code in the CLUSTERS is correct/incorrect, not if the model passed at 5 or not\")\n"
   ]
  },
  {
   "cell_type": "code",
   "execution_count": 31,
   "id": "8c3b86d6-f3a6-485c-9e13-b2f404c52642",
   "metadata": {},
   "outputs": [
    {
     "name": "stdout",
     "output_type": "stream",
     "text": [
      "CPU times: user 33.7 ms, sys: 681 µs, total: 34.3 ms\n",
      "Wall time: 12.4 ms\n"
     ]
    }
   ],
   "source": [
    "%%time\n",
    "total_programs = len(clusters_dict)\n",
    "\n",
    "#1 cluster\n",
    "cluster_1_correct = len(filter_clusters(generated_programs_dict, clusters_dict, True, (1, 1)))\n",
    "cluster_1_incorrect = len(filter_clusters(generated_programs_dict, clusters_dict, False, (1, 1)))\n",
    "\n",
    "#2 cluster\n",
    "cluster_2_correct = len(filter_clusters(generated_programs_dict, clusters_dict, True, (2, 2)))\n",
    "cluster_2_incorrect = len(filter_clusters(generated_programs_dict, clusters_dict, False, (2, 2)))\n",
    "\n",
    "#3 cluster\n",
    "cluster_3_correct = len(filter_clusters(generated_programs_dict, clusters_dict, True, (3, 3)))\n",
    "cluster_3_incorrect = len(filter_clusters(generated_programs_dict, clusters_dict, False, (3, 3)))\n",
    "\n",
    "#4 cluster\n",
    "cluster_4_correct = len(filter_clusters(generated_programs_dict, clusters_dict, True, (4, 4)))\n",
    "cluster_4_incorrect = len(filter_clusters(generated_programs_dict, clusters_dict, False, (4, 4)))\n",
    "\n",
    "#5 cluster\n",
    "cluster_5_correct = len(filter_clusters(generated_programs_dict, clusters_dict, True, (5, 5)))\n",
    "cluster_5_incorrect = len(filter_clusters(generated_programs_dict, clusters_dict, False, (5, 5)))\n",
    "\n",
    "#6 cluster\n",
    "cluster_6_correct = len(filter_clusters(generated_programs_dict, clusters_dict, True, (6, 6)))\n",
    "cluster_6_incorrect = len(filter_clusters(generated_programs_dict, clusters_dict, False, (6, 6)))\n",
    "\n",
    "#7 cluster\n",
    "cluster_7_correct = len(filter_clusters(generated_programs_dict, clusters_dict, True, (7, 7)))\n",
    "cluster_7_incorrect = len(filter_clusters(generated_programs_dict, clusters_dict, False, (7, 7)))\n",
    "\n",
    "#8 cluster\n",
    "cluster_8_correct = len(filter_clusters(generated_programs_dict, clusters_dict, True, (8, 8)))\n",
    "cluster_8_incorrect = len(filter_clusters(generated_programs_dict, clusters_dict, False, (8, 8)))\n",
    "\n",
    "#9 cluster\n",
    "cluster_9_correct = len(filter_clusters(generated_programs_dict, clusters_dict, True, (9, 9)))\n",
    "cluster_9_incorrect = len(filter_clusters(generated_programs_dict, clusters_dict, False, (9, 9)))\n",
    "\n",
    "#10 cluster\n",
    "cluster_10_correct = len(filter_clusters(generated_programs_dict, clusters_dict, True, (10, 10)))\n",
    "cluster_10_incorrect = len(filter_clusters(generated_programs_dict, clusters_dict, False, (10, 10)))\n",
    "\n",
    "#11 cluster\n",
    "cluster_11_correct = len(filter_clusters(generated_programs_dict, clusters_dict, True, (11, 11)))\n",
    "cluster_11_incorrect = len(filter_clusters(generated_programs_dict, clusters_dict, False, (11, 11)))\n",
    "\n",
    "#12 cluster\n",
    "cluster_12_correct = len(filter_clusters(generated_programs_dict, clusters_dict, True, (12, 12)))\n",
    "cluster_12_incorrect = len(filter_clusters(generated_programs_dict, clusters_dict, False, (12, 12)))\n",
    "\n",
    "#13 cluster\n",
    "cluster_13_correct = len(filter_clusters(generated_programs_dict, clusters_dict, True, (13, 13)))\n",
    "cluster_13_incorrect = len(filter_clusters(generated_programs_dict, clusters_dict, False, (13, 13)))\n",
    "\n",
    "#14 cluster\n",
    "cluster_14_correct = len(filter_clusters(generated_programs_dict, clusters_dict, True, (14, 14)))\n",
    "cluster_14_incorrect = len(filter_clusters(generated_programs_dict, clusters_dict, False, (14, 14)))\n",
    "\n",
    "#15 cluster\n",
    "cluster_15_correct = len(filter_clusters(generated_programs_dict, clusters_dict, True, (15, 15)))\n",
    "cluster_15_incorrect = len(filter_clusters(generated_programs_dict, clusters_dict, False, (15, 15)))\n",
    "\n",
    "#16 cluster\n",
    "cluster_16_correct = len(filter_clusters(generated_programs_dict, clusters_dict, True, (16, 16)))\n",
    "cluster_16_incorrect = len(filter_clusters(generated_programs_dict, clusters_dict, False, (16, 16)))\n",
    "\n",
    "#17 cluster\n",
    "cluster_17_correct = len(filter_clusters(generated_programs_dict, clusters_dict, True, (17, 17)))\n",
    "cluster_17_incorrect = len(filter_clusters(generated_programs_dict, clusters_dict, False, (17, 17)))\n",
    "\n",
    "#18 cluster\n",
    "cluster_18_correct = len(filter_clusters(generated_programs_dict, clusters_dict, True, (18, 18)))\n",
    "cluster_18_incorrect = len(filter_clusters(generated_programs_dict, clusters_dict, False, (18, 18)))\n",
    "\n",
    "#19 cluster\n",
    "cluster_19_correct = len(filter_clusters(generated_programs_dict, clusters_dict, True, (19, 19)))\n",
    "cluster_19_incorrect = len(filter_clusters(generated_programs_dict, clusters_dict, False, (19, 19)))\n",
    "\n",
    "#20 cluster\n",
    "cluster_20_correct = len(filter_clusters(generated_programs_dict, clusters_dict, True, (20, 20)))\n",
    "cluster_20_incorrect = len(filter_clusters(generated_programs_dict, clusters_dict, False, (20, 20)))\n"
   ]
  },
  {
   "cell_type": "code",
   "execution_count": 32,
   "id": "151ad4ce-477a-461b-85b2-8e0d7e05f43c",
   "metadata": {},
   "outputs": [
    {
     "data": {
      "image/png": "[encoded data removed]",
      "text/plain": [
       "<Figure size 2000x600 with 1 Axes>"
      ]
     },
     "metadata": {},
     "output_type": "display_data"
    }
   ],
   "source": [
    "import numpy as np\n",
    "\n",
    "species = (\"1\", \"2\", \"3\", \"4\", \"5\", \"6\", \"7\", \"8\", \"9\", \"10\", \"11\", \"12\", \"13\", \"14\", \"15\", \"16\", \"17\", \"18\", \"19\", \"20\")\n",
    "\n",
    "penguin_means = {\n",
    "'Correct': (\n",
    "    cluster_1_correct, cluster_2_correct, cluster_3_correct, cluster_4_correct, cluster_5_correct,\n",
    "    cluster_6_correct, cluster_7_correct, cluster_8_correct, cluster_9_correct, cluster_10_correct,\n",
    "    cluster_11_correct, cluster_12_correct, cluster_13_correct, cluster_14_correct, cluster_15_correct,\n",
    "    cluster_16_correct, cluster_17_correct, cluster_18_correct, cluster_19_correct, cluster_20_correct\n",
    "),\n",
    "'Incorrect': (\n",
    "    cluster_1_incorrect, cluster_2_incorrect, cluster_3_incorrect, cluster_4_incorrect, cluster_5_incorrect,\n",
    "    cluster_6_incorrect, cluster_7_incorrect, cluster_8_incorrect, cluster_9_incorrect, cluster_10_incorrect,\n",
    "    cluster_11_incorrect, cluster_12_incorrect, cluster_13_incorrect, cluster_14_incorrect, cluster_15_incorrect,\n",
    "    cluster_16_incorrect, cluster_17_incorrect, cluster_18_incorrect, cluster_19_incorrect, cluster_20_incorrect\n",
    ")\n",
    "}\n",
    "\n",
    "x = np.arange(len(species))  # the label locations\n",
    "width = 0.25  # the width of the bars\n",
    "multiplier = 0\n",
    "\n",
    "# Increase figure size by setting the figsize parameter\n",
    "fig, ax = plt.subplots(figsize=(20, 6))\n",
    "\n",
    "for attribute, measurement in penguin_means.items():\n",
    "    offset = width * multiplier\n",
    "    rects = ax.bar(x + offset, measurement, width, label=attribute)\n",
    "    ax.bar_label(rects, padding=3)\n",
    "    multiplier += 1\n",
    "\n",
    "# Add some text for labels, title and custom x-axis tick labels, etc.\n",
    "#plt.figure(figsize=(10,6))\n",
    "ax.set_ylabel('Number of clusters')\n",
    "ax.set_title(f\"Proportion of correct vs incorrect answers in each type of cluster for { os.path.basename(data_dir) }\")\n",
    "ax.set_xticks(x + width, species)\n",
    "ax.legend(loc='upper right', ncols=3)\n",
    "ax.set_ylim(0, 1200)\n",
    "\n",
    "plt.show()"
   ]
  },
  {
   "cell_type": "code",
   "execution_count": 33,
   "id": "09c8c1e6-e5bc-4b6b-98c5-6e05d98169a0",
   "metadata": {},
   "outputs": [
    {
     "name": "stdout",
     "output_type": "stream",
     "text": [
      "Total num of clusters? 1934\n"
     ]
    }
   ],
   "source": [
    "\n",
    "bs_check = bulk_sum(cluster_1_correct, cluster_2_correct, cluster_3_correct, cluster_4_correct, cluster_5_correct,\n",
    "                   cluster_1_incorrect, cluster_2_incorrect, cluster_3_incorrect, cluster_4_incorrect, cluster_5_incorrect)\n",
    "\n",
    "print(f\"Total num of clusters? {bs_check}\")"
   ]
  },
  {
   "cell_type": "code",
   "execution_count": 46,
   "id": "904b1fa4-24bc-4078-b1f7-db264275de5f",
   "metadata": {},
   "outputs": [
    {
     "name": "stdout",
     "output_type": "stream",
     "text": [
      "137\n"
     ]
    }
   ],
   "source": [
    "single_cluster_false = filter_clusters(generated_programs_dict, clusters_dict, False, (1,1))\n",
    "print(len(single_cluster_false))"
   ]
  },
  {
   "cell_type": "code",
   "execution_count": 49,
   "id": "d8afc8fc-8f1e-40b7-8ffa-c60ab69e1c86",
   "metadata": {},
   "outputs": [
    {
     "name": "stdout",
     "output_type": "stream",
     "text": [
      "All prompts with multiple clusters where atleast one is correct\n",
      "\n"
     ]
    }
   ],
   "source": [
    "print(\"All prompts with multiple clusters where atleast one is correct\\n\")\n",
    "#pprint(single_cluster_false)"
   ]
  },
  {
   "cell_type": "code",
   "execution_count": 48,
   "id": "f121a263-e026-40ec-911a-7a707fc1883f",
   "metadata": {},
   "outputs": [],
   "source": [
    "def display_prorgrams(i, generated_programs_dict, clusters_dict):\n",
    "    print(\"Prompt:\", i, \"\\n\")\n",
    "    \n",
    "    cluster_num = 0\n",
    "\n",
    "    print(f\"Total num of clusters {len(clusters_dict[i])}\")\n",
    "\n",
    "    for cluster in clusters_dict[i]:\n",
    "        j = cluster[0]\n",
    "        print( generated_programs_dict[i][j]['prompt'] )\n",
    "        \n",
    "        if (generated_programs_dict[i][j]['compiler_output'][0] ==True):\n",
    "            print( f\"Correct Generated Code {cluster}, Cluster {cluster_num}:\\n\" )\n",
    "            print(generated_programs_dict[i][j]['generated_program'])\n",
    "            \n",
    "            gt_ans = generated_programs_dict[i][j]['expected_answer']\n",
    "            gen_ans = generated_programs_dict[i][j]['compiler_output'][2]\n",
    "            print(f\"Ground Truth Answer: {gt_ans} | Generated Answer: {gen_ans}\")\n",
    "            print(\"----------------------------------------------------------------\")\n",
    "            \n",
    "        elif (generated_programs_dict[i][j]['compiler_output'][0] == False):\n",
    "            print( f\"Incorrect Generated Code {cluster}, Cluster {cluster_num}:\\n\" )\n",
    "            print(generated_programs_dict[i][j]['generated_program'])\n",
    "            print(\"falseee\")\n",
    "            gt_ans = generated_programs_dict[i][j]['expected_answer']\n",
    "            gen_ans = generated_programs_dict[i][j]['compiler_output'][2]\n",
    "            print(f\"Ground Truth Answer: {gt_ans} | Generated Answer: {gen_ans}\")\n",
    "            print(\"----------------------------------------------------------------\")\n",
    "            \n",
    "        cluster_num+=1\n",
    "    print(\"=============================================================================================================================\")\n",
    "\n",
    "    # print( generated_programs_dict[i][j]['prompt'])\n",
    "    # print(\"\\n\\n\")\n",
    "    # print(\"Generated Code:\")\n",
    "    # print( generated_programs_dict[i][j]['generated_program'])\n",
    "    # gt_ans = generated_programs_dict[i][j]['expected_answer']\n",
    "    # gen_ans = generated_programs_dict[i][j]['compiler_output'][2]\n",
    "    # print(f\"Ground Truth Answer: {gt_ans} | Generated Answer: {gen_ans}\")\n",
    "    # print(\"\\n\")\n",
    "    # print(\"|========================================================================|\")\n",
    "    # print(\"\\n\\n\")"
   ]
  },
  {
   "cell_type": "code",
   "execution_count": 43,
   "id": "6ffc63d3-f0bd-44af-a77e-2c892c3e1c38",
   "metadata": {},
   "outputs": [
    {
     "name": "stdout",
     "output_type": "stream",
     "text": [
      "All prompts with multiple clusters where atleast one is correct\n",
      "\n"
     ]
    }
   ],
   "source": [
    "print(\"All prompts with multiple clusters where atleast one is correct\\n\")\n",
    "#pprint(filter_clusters(generated_programs_dict, clusters_dict, True, (2,10)))"
   ]
  },
  {
   "cell_type": "code",
   "execution_count": 53,
   "id": "39e71b91-cfeb-476a-90d3-a55a65b4291f",
   "metadata": {},
   "outputs": [
    {
     "name": "stdout",
     "output_type": "stream",
     "text": [
      "Prompt: 10 \n",
      "\n",
      "Total num of clusters 1\n",
      "QUESTION:\n",
      "# a train running at the speed of 120 km / hr crosses a pole in 18 seconds. what is the length of the train? n0 = 120.0 n1 = 18.0\n",
      "ANSWER:\n",
      "\n",
      "Incorrect Generated Code [0, 1, 2, 3, 4, 5, 6, 7, 8, 9, 10, 11, 12, 13, 14, 15, 16, 17, 18, 19], Cluster 0:\n",
      "\n",
      "n0 = 120.0\n",
      "n1 = 18.0\n",
      "t0 = n0 * 0.2778\n",
      "answer = n1 * t0\n",
      "\n",
      "Ground Truth Answer: 600.0 | Generated Answer: 600.048\n",
      "----------------------------------------------------------------\n",
      "=============================================================================================================================\n"
     ]
    }
   ],
   "source": [
    "i = 10\n",
    "display_prorgrams(i, generated_programs_dict, clusters_dict)"
   ]
  },
  {
   "cell_type": "code",
   "execution_count": 39,
   "id": "37e02080-c58d-434b-b494-44380fa73449",
   "metadata": {},
   "outputs": [],
   "source": [
    "# #Show all programs\n",
    "# for j in clusters_dict[i]:\n",
    "#         display_prorgrams(i, generated_programs_dict, clusters_dict)\n",
    "        "
   ]
  },
  {
   "cell_type": "code",
   "execution_count": 40,
   "id": "043feedd-cec9-403d-999f-0c5c95f5fb2e",
   "metadata": {},
   "outputs": [],
   "source": [
    "# #Show false programs\n",
    "# for j in generated_programs_dict[i]:\n",
    "#         if sort == False and generated_programs_dict[i][j]['compiler_output'][0] == False:\n",
    "#             display_prorgrams(i, generated_programs_dict)"
   ]
  },
  {
   "cell_type": "markdown",
   "id": "dda9a418-2bcb-44f6-8c41-d27927ebb4d0",
   "metadata": {},
   "source": [
    "### Broad Loical Error Category Drafts"
   ]
  },
  {
   "cell_type": "raw",
   "id": "59e6687a-5e34-43d0-82be-a9b9145b11ee",
   "metadata": {},
   "source": [
    "1. Error in the last line(or two)\n",
    "\n",
    "2. \"Hallucinations\", inserting 3.0, 4.0, and 1.0 into problems \n",
    "\n",
    "3. Variable/value switching "
   ]
  },
  {
   "cell_type": "code",
   "execution_count": null,
   "id": "33324c86-00fe-4bf5-bbb9-65457a7f152d",
   "metadata": {},
   "outputs": [],
   "source": []
  }
 ],
 "metadata": {
  "kernelspec": {
   "display_name": "Python 3 (ipykernel)",
   "language": "python",
   "name": "python3"
  },
  "language_info": {
   "codemirror_mode": {
    "name": "ipython",
    "version": 3
   },
   "file_extension": ".py",
   "mimetype": "text/x-python",
   "name": "python",
   "nbconvert_exporter": "python",
   "pygments_lexer": "ipython3",
   "version": "3.11.3"
  }
 },
 "nbformat": 4,
 "nbformat_minor": 5
}
